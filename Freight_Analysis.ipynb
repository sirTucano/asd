{
  "nbformat": 4,
  "nbformat_minor": 0,
  "metadata": {
    "colab": {
      "name": "Freight_Analysis.ipynb",
      "provenance": [],
      "collapsed_sections": [],
      "toc_visible": true,
      "include_colab_link": true
    },
    "kernelspec": {
      "name": "python3",
      "display_name": "Python 3"
    }
  },
  "cells": [
    {
      "cell_type": "markdown",
      "metadata": {
        "id": "view-in-github",
        "colab_type": "text"
      },
      "source": [
        "<a href=\"https://colab.research.google.com/github/sirTucano/asd/blob/master/Freight_Analysis.ipynb\" target=\"_parent\"><img src=\"https://colab.research.google.com/assets/colab-badge.svg\" alt=\"Open In Colab\"/></a>"
      ]
    },
    {
      "cell_type": "markdown",
      "metadata": {
        "id": "M0APyTMkbwHU"
      },
      "source": [
        "import libraries"
      ]
    },
    {
      "cell_type": "code",
      "metadata": {
        "id": "nEFpYcb0Z1PC"
      },
      "source": [
        "import pandas as pd\n",
        "import os\n",
        "import numpy as np"
      ],
      "execution_count": null,
      "outputs": []
    },
    {
      "cell_type": "markdown",
      "metadata": {
        "id": "2DBzSazWbTUH"
      },
      "source": [
        "total Cost Center data for Outward Freight"
      ]
    },
    {
      "cell_type": "code",
      "metadata": {
        "id": "VZo4VvfdbJx3"
      },
      "source": [
        "list_CCO = ['Fiscal Year','Period','Cost element name','Cost element descr.','Vendor','Vendor Name','Document Date','Posting Date','Value in Obj. Crcy','Object Currency','Ref. document number','Document Header Text','Plant', 'Purchase order text']\n",
        "list_CCI = ['Fiscal Year','Period','Cost element name','Cost element descr.','Vendor','Vendor Name','Document Date','Posting Date','Value in Obj. Crcy','Object Currency','Ref. document number','Document Header Text','Plant','Purchasing Document','Purchase order text']\n",
        "list_PO = ['Cal. year / month', 'Purchase order number', 'Plant', 'Material','Unnamed: 4','Mode of Transport','Global Vendor','Country','Quantity of GRs']\n",
        "list_Shipment = ['Shipment number', 'Plant.', 'Forwarding Agent', 'Unnamed: 3', 'Incoterms','Incoterms 2', 'Mode of Transport', 'Cal. year / month', 'Act.goods issue date', 'Qty in KG', '# OD Item']\n",
        "\n",
        "path_CCO = '/content/drive/My Drive/Python/p_Freight_Analysis/Source Files/CC_Outbound/'\n",
        "path_CCI = '/content/drive/My Drive/Python/p_Freight_Analysis/Source Files/CC_Inbound/'\n",
        "path_PO = '/content/drive/My Drive/Python/p_Freight_Analysis/Source Files/PO/'\n",
        "path_Shipment = '/content/drive/My Drive/Python/p_Freight_Analysis/Source Files/Shipment/'\n",
        "path_Append = '/content/drive/My Drive/Python/p_Freight_Analysis/Source Files/Append/'\n",
        "\n",
        "sheetname_CCO = 'Sheet1'\n",
        "sheetname_CCI = 'Sheet1'\n",
        "sheetname_PO = 'Sheet1'\n",
        "sheetname_shipment = 'Outbound_Deliveries'"
      ],
      "execution_count": null,
      "outputs": []
    },
    {
      "cell_type": "markdown",
      "metadata": {
        "id": "qQYOdBYXzi-a"
      },
      "source": [
        "declare merger function"
      ]
    },
    {
      "cell_type": "code",
      "metadata": {
        "id": "T4SvGzz8Yb7E"
      },
      "source": [
        "def merger(path_in,path_out,output,column_names,sheetname,as_type):\n",
        "  global df\n",
        "  df = pd.DataFrame()\n",
        "  for filename in os.listdir(path_in):\n",
        "    temp_df = pd.read_excel(\"{}/{}\".format(path_in,filename),sheet_name = sheetname,dtype={as_type:str})\n",
        "    temp_df = temp_df[column_names]\n",
        "    df = df.append(temp_df,sort='True')\n",
        "  df = df.to_csv(path_out+output)"
      ],
      "execution_count": null,
      "outputs": []
    },
    {
      "cell_type": "markdown",
      "metadata": {
        "id": "Oiy2NeYIqriQ"
      },
      "source": [
        "run merger function for all datasets\n",
        "(no data reduction at this point)"
      ]
    },
    {
      "cell_type": "code",
      "metadata": {
        "id": "cXuN22C4OP3r"
      },
      "source": [
        "merger(path_CCO,path_Append,'total_CCO.csv',list_CCO,sheetname_CCO,as_type=False)\n",
        "merger(path_CCI,path_Append,'total_CCI.csv',list_CCI,sheetname_CCI,as_type=False)\n",
        "merger(path_Shipment,path_Append,'total_Shipment.csv',list_Shipment,sheetname_shipment,'Cal. year / month')\n",
        "merger(path_PO,path_Append,'total_PO.csv',list_PO,sheetname_PO,'Cal. year / month')"
      ],
      "execution_count": null,
      "outputs": []
    },
    {
      "cell_type": "markdown",
      "metadata": {
        "id": "gr8PVq4Eq_4r"
      },
      "source": [
        "collect merged datasets"
      ]
    },
    {
      "cell_type": "code",
      "metadata": {
        "id": "R8Zi2rkPq52_",
        "outputId": "85963e83-f882-4ddf-e388-2a6726fac75e",
        "colab": {
          "base_uri": "https://localhost:8080/",
          "height": 319
        }
      },
      "source": [
        "df_CCO = pd.read_csv(path_Append+'total_CCO.csv')\n",
        "df_CCI = pd.read_csv(path_Append+'total_CCI.csv')\n",
        "df_Shipment = pd.read_csv(path_Append+'total_Shipment.csv',dtype={'Cal. year / month':str})\n",
        "df_PO = pd.read_csv(path_Append+'total_PO.csv',dtype={'Cal. year / month':str})\n",
        "\n",
        "print('Total PO+STO items:\\n',df_PO['Purchase order number'].count())\n",
        "\n",
        "#reduce STOs from PO db:\n",
        "# df_PO['PO/STO'] = np.where(df_PO['Purchase order number'].str.len()<9,'STO','PO')\n",
        "# df_PO = df_PO[df_PO['PO/STO']=='PO']\n",
        "\n",
        "print('Total PO items:\\n',df_PO['Purchase order number'].count())\n",
        "print('Total PO unique items:\\n',df_PO['Purchase order number'].nunique(),'\\n')\n",
        "\n",
        "print('Total Inbound Invoice items:\\n',df_CCI['Cost element descr.'].count())\n",
        "print('Unique Inbound Invoice items:\\n',df_CCI['Document Header Text'].nunique(),'\\n')\n",
        "\n",
        "print('Total Outbound Invoice items:\\n',df_CCO['Cost element descr.'].count())\n",
        "print('Unique Outbound Invoice items:\\n',df_CCO['Document Header Text'].nunique(),'\\n')"
      ],
      "execution_count": null,
      "outputs": [
        {
          "output_type": "stream",
          "text": [
            "Total PO+STO items:\n",
            " 32903\n",
            "Total PO items:\n",
            " 32903\n",
            "Total PO unique items:\n",
            " 32313 \n",
            "\n",
            "Total Inbound Invoice items:\n",
            " 31416\n",
            "Unique Inbound Invoice items:\n",
            " 11368 \n",
            "\n",
            "Total Outbound Invoice items:\n",
            " 231225\n",
            "Unique Outbound Invoice items:\n",
            " 146267 \n",
            "\n"
          ],
          "name": "stdout"
        }
      ]
    },
    {
      "cell_type": "code",
      "metadata": {
        "id": "pCdE1LrRM5Rr",
        "outputId": "7d706019-d56a-4d0b-f438-0523220f1cb9",
        "colab": {
          "base_uri": "https://localhost:8080/",
          "height": 88
        }
      },
      "source": [
        "df_Shipment['Cal. year / month'].unique()"
      ],
      "execution_count": null,
      "outputs": [
        {
          "output_type": "execute_result",
          "data": {
            "text/plain": [
              "array(['11.2019', '10.2019', '12.2019', '08.2019', '07.2019', '09.2019',\n",
              "       '05.2019', '04.2019', '06.2019', '01.2019', '02.2019', '03.2019',\n",
              "       '01.2020', '02.2020', '03.2020', '04.2020', '05.2020', '06.2020',\n",
              "       '08.2020', '07.2020', '09.2020'], dtype=object)"
            ]
          },
          "metadata": {
            "tags": []
          },
          "execution_count": 6
        }
      ]
    },
    {
      "cell_type": "code",
      "metadata": {
        "id": "pvC7uUhcvE1h",
        "outputId": "74f54a0d-28aa-479d-dba5-6a5f937c4b60",
        "colab": {
          "base_uri": "https://localhost:8080/",
          "height": 298
        }
      },
      "source": [
        "df_Shipment.describe()"
      ],
      "execution_count": null,
      "outputs": [
        {
          "output_type": "execute_result",
          "data": {
            "text/html": [
              "<div>\n",
              "<style scoped>\n",
              "    .dataframe tbody tr th:only-of-type {\n",
              "        vertical-align: middle;\n",
              "    }\n",
              "\n",
              "    .dataframe tbody tr th {\n",
              "        vertical-align: top;\n",
              "    }\n",
              "\n",
              "    .dataframe thead th {\n",
              "        text-align: right;\n",
              "    }\n",
              "</style>\n",
              "<table border=\"1\" class=\"dataframe\">\n",
              "  <thead>\n",
              "    <tr style=\"text-align: right;\">\n",
              "      <th></th>\n",
              "      <th>Unnamed: 0</th>\n",
              "      <th># OD Item</th>\n",
              "      <th>Qty in KG</th>\n",
              "      <th>Shipment number</th>\n",
              "    </tr>\n",
              "  </thead>\n",
              "  <tbody>\n",
              "    <tr>\n",
              "      <th>count</th>\n",
              "      <td>153502.000000</td>\n",
              "      <td>153502.000000</td>\n",
              "      <td>153502.000000</td>\n",
              "      <td>1.535020e+05</td>\n",
              "    </tr>\n",
              "    <tr>\n",
              "      <th>mean</th>\n",
              "      <td>11039.843520</td>\n",
              "      <td>3.354549</td>\n",
              "      <td>1232.503515</td>\n",
              "      <td>4.120817e+06</td>\n",
              "    </tr>\n",
              "    <tr>\n",
              "      <th>std</th>\n",
              "      <td>6454.993906</td>\n",
              "      <td>3.530750</td>\n",
              "      <td>3201.829623</td>\n",
              "      <td>2.511151e+05</td>\n",
              "    </tr>\n",
              "    <tr>\n",
              "      <th>min</th>\n",
              "      <td>0.000000</td>\n",
              "      <td>1.000000</td>\n",
              "      <td>0.002000</td>\n",
              "      <td>3.591114e+06</td>\n",
              "    </tr>\n",
              "    <tr>\n",
              "      <th>25%</th>\n",
              "      <td>5482.000000</td>\n",
              "      <td>2.000000</td>\n",
              "      <td>50.000000</td>\n",
              "      <td>3.902192e+06</td>\n",
              "    </tr>\n",
              "    <tr>\n",
              "      <th>50%</th>\n",
              "      <td>10964.000000</td>\n",
              "      <td>2.000000</td>\n",
              "      <td>200.000000</td>\n",
              "      <td>4.115256e+06</td>\n",
              "    </tr>\n",
              "    <tr>\n",
              "      <th>75%</th>\n",
              "      <td>16446.000000</td>\n",
              "      <td>4.000000</td>\n",
              "      <td>944.575000</td>\n",
              "      <td>4.331012e+06</td>\n",
              "    </tr>\n",
              "    <tr>\n",
              "      <th>max</th>\n",
              "      <td>24082.000000</td>\n",
              "      <td>86.000000</td>\n",
              "      <td>130720.000000</td>\n",
              "      <td>4.574413e+06</td>\n",
              "    </tr>\n",
              "  </tbody>\n",
              "</table>\n",
              "</div>"
            ],
            "text/plain": [
              "          Unnamed: 0      # OD Item      Qty in KG  Shipment number\n",
              "count  153502.000000  153502.000000  153502.000000     1.535020e+05\n",
              "mean    11039.843520       3.354549    1232.503515     4.120817e+06\n",
              "std      6454.993906       3.530750    3201.829623     2.511151e+05\n",
              "min         0.000000       1.000000       0.002000     3.591114e+06\n",
              "25%      5482.000000       2.000000      50.000000     3.902192e+06\n",
              "50%     10964.000000       2.000000     200.000000     4.115256e+06\n",
              "75%     16446.000000       4.000000     944.575000     4.331012e+06\n",
              "max     24082.000000      86.000000  130720.000000     4.574413e+06"
            ]
          },
          "metadata": {
            "tags": []
          },
          "execution_count": 7
        }
      ]
    },
    {
      "cell_type": "code",
      "metadata": {
        "id": "UKQJBCvXvcRo",
        "outputId": "282fb10e-5210-467a-f322-51bf52af8db4",
        "colab": {
          "base_uri": "https://localhost:8080/",
          "height": 230
        }
      },
      "source": [
        "df_Shipment['Shipment number']"
      ],
      "execution_count": null,
      "outputs": [
        {
          "output_type": "execute_result",
          "data": {
            "text/plain": [
              "0         4034332\n",
              "1         4041024\n",
              "2         4041126\n",
              "3         4041220\n",
              "4         4041935\n",
              "           ...   \n",
              "153497    4574123\n",
              "153498    4574129\n",
              "153499    4574138\n",
              "153500    4574180\n",
              "153501    4574413\n",
              "Name: Shipment number, Length: 153502, dtype: int64"
            ]
          },
          "metadata": {
            "tags": []
          },
          "execution_count": 8
        }
      ]
    },
    {
      "cell_type": "markdown",
      "metadata": {
        "id": "-zmF7Gzl8ZY8"
      },
      "source": [
        "**Print number of incorrect 'Document Header Text' in Outbound data:**"
      ]
    },
    {
      "cell_type": "code",
      "metadata": {
        "id": "qQLfmI-J5oIW",
        "outputId": "3a4b00c1-b5f5-4d17-c7bf-5381950a7ca0",
        "colab": {
          "base_uri": "https://localhost:8080/",
          "height": 53
        }
      },
      "source": [
        "df_manual_CCO = df_CCO\n",
        "df_manual_CCO = df_manual_CCO.dropna(subset=['Document Header Text'])\n",
        "df_manual_CCO = df_manual_CCO['Document Header Text'].apply(pd.to_numeric, errors='coerce')\n",
        "print('Total number of incorrect Document Header Text:\\n',df_manual_CCO.isna().sum())"
      ],
      "execution_count": null,
      "outputs": [
        {
          "output_type": "stream",
          "text": [
            "Total number of incorrect Document Header Text:\n",
            " 23064\n"
          ],
          "name": "stdout"
        }
      ]
    },
    {
      "cell_type": "markdown",
      "metadata": {
        "id": "wJ7LgZOFUgHQ"
      },
      "source": [
        "Convert Inbound Document Header Text to string and take first 10 characters:"
      ]
    },
    {
      "cell_type": "code",
      "metadata": {
        "id": "o4aLMxfHLZPu"
      },
      "source": [
        "df_CCI['Document Header Text'] = df_CCI['Document Header Text'].astype(str).str[:10]"
      ],
      "execution_count": null,
      "outputs": []
    },
    {
      "cell_type": "markdown",
      "metadata": {
        "id": "rZ9JUrBI712r"
      },
      "source": [
        "print number of incorrect 'Document Header Text' in Inbound data:"
      ]
    },
    {
      "cell_type": "code",
      "metadata": {
        "id": "hbbqAgtg6_O9",
        "outputId": "5418d3e9-d6d7-466a-f0e9-f84116899225",
        "colab": {
          "base_uri": "https://localhost:8080/",
          "height": 53
        }
      },
      "source": [
        "df_manual_CCI = df_CCI\n",
        "df_manual_CCI = df_manual_CCI.dropna(subset=['Document Header Text'])\n",
        "df_manual_CCI = df_manual_CCI['Document Header Text'].apply(pd.to_numeric, errors='coerce')\n",
        "print('Total number of incorrect Document Header Text:\\n',df_manual_CCI.isna().sum())"
      ],
      "execution_count": null,
      "outputs": [
        {
          "output_type": "stream",
          "text": [
            "Total number of incorrect Document Header Text:\n",
            " 17266\n"
          ],
          "name": "stdout"
        }
      ]
    },
    {
      "cell_type": "markdown",
      "metadata": {
        "id": "5pM-_pigSCJM"
      },
      "source": [
        "Drop all non-numeric values from the datasets and convert them to integer:"
      ]
    },
    {
      "cell_type": "code",
      "metadata": {
        "id": "9mc4GRXM6_Hc"
      },
      "source": [
        "df_CCO = (df_CCO.drop('Document Header Text', axis=1)\n",
        "         .join(df_CCO['Document Header Text'].apply(pd.to_numeric, errors='coerce')))\n",
        "df_CCO = df_CCO.dropna(subset=['Document Header Text'])\n",
        "\n",
        "df_CCI = (df_CCI.drop('Document Header Text', axis=1)\n",
        "         .join(df_CCI['Document Header Text'].apply(pd.to_numeric, errors='coerce')))\n",
        "df_CCI = df_CCI.dropna(subset=['Document Header Text'])\n",
        "\n",
        "df_PO = (df_PO.drop('Purchase order number', axis=1)\n",
        "         .join(df_PO['Purchase order number'].apply(pd.to_numeric, errors='coerce')))\n",
        "df_PO = df_PO.dropna(subset=['Purchase order number'])\n",
        "\n",
        "df_CCO['Document Header Text'] = df_CCO['Document Header Text'].astype(int)\n",
        "df_CCI['Document Header Text'] = df_CCI['Document Header Text'].astype(int)"
      ],
      "execution_count": null,
      "outputs": []
    },
    {
      "cell_type": "markdown",
      "metadata": {
        "id": "8y3h168_UwW-"
      },
      "source": [
        "Merge the datasets together to Inbound and Outbound:"
      ]
    },
    {
      "cell_type": "code",
      "metadata": {
        "id": "q3ExeDdk6-92"
      },
      "source": [
        "df_Outbound = pd.merge(df_CCO,df_Shipment,left_on='Document Header Text',right_on= 'Shipment number',how ='left')\n",
        "df_Inbound = pd.merge(df_CCI,df_PO,left_on='Document Header Text',right_on= 'Purchase order number',how ='left')"
      ],
      "execution_count": null,
      "outputs": []
    },
    {
      "cell_type": "code",
      "metadata": {
        "id": "KYn3Jq-Qyd_X"
      },
      "source": [
        "df_Outbound_2 = pd.merge(df_Shipment,df_CCO,left_on='Shipment number',right_on= 'Document Header Text',how ='left')"
      ],
      "execution_count": null,
      "outputs": []
    },
    {
      "cell_type": "code",
      "metadata": {
        "id": "WteZSOiI-QxV"
      },
      "source": [
        "df_Outbound_2['Cal. year / month'] = df_Outbound['Cal. year / month'].str.replace('.','/',regex=True)\n",
        "df_Outbound_2.to_csv('/content/drive/My Drive/Python/p_Freight_Analysis/Source Files/Outbound_2.csv')"
      ],
      "execution_count": null,
      "outputs": []
    },
    {
      "cell_type": "code",
      "metadata": {
        "id": "jy2uAY-pqQPZ"
      },
      "source": [
        "df_PO_invoice = pd.merge(df_PO,df_CCI,left_on='Purchase order number',right_on= 'Document Header Text',how ='left')"
      ],
      "execution_count": null,
      "outputs": []
    },
    {
      "cell_type": "code",
      "metadata": {
        "id": "gFBZJ0tnOoGy"
      },
      "source": [
        "df_Outbound['Cal. year / month'] = df_Outbound['Cal. year / month'].str.replace('.','/',regex=True)\n",
        "df_Outbound['Shipment number'] = df_Outbound['Shipment number'].astype(str)\n",
        "df_Outbound['Vendor'] = df_Outbound['Vendor'].astype(str)\n",
        "\n",
        "df_Outbound_2['Cal. year / month'] = df_Outbound['Cal. year / month'].str.replace('.','/',regex=True)\n",
        "df_Outbound_2['Shipment number'] = df_Outbound['Shipment number'].astype(str)\n",
        "df_Outbound_2['Vendor'] = df_Outbound['Vendor'].astype(str)"
      ],
      "execution_count": null,
      "outputs": []
    },
    {
      "cell_type": "markdown",
      "metadata": {
        "id": "713agpCTU0F_"
      },
      "source": [
        "Output them to csv:"
      ]
    },
    {
      "cell_type": "code",
      "metadata": {
        "id": "ZhUStwTu6-xw"
      },
      "source": [
        "df_Outbound.to_csv('/content/drive/My Drive/Python/p_Freight_Analysis/Source Files/Outbound.csv')\n",
        "\n",
        "df_Inbound.to_csv('/content/drive/My Drive/Python/p_Freight_Analysis/Source Files/Inbound.csv')\n",
        "df_PO_invoice.to_csv('/content/drive/My Drive/Python/p_Freight_Analysis/Source Files/PO_invoice.csv')"
      ],
      "execution_count": null,
      "outputs": []
    },
    {
      "cell_type": "code",
      "metadata": {
        "id": "LK4K3xlw6-Z_",
        "outputId": "fa57c978-d904-4495-b10c-f592377e1c0d",
        "colab": {
          "base_uri": "https://localhost:8080/",
          "height": 301
        }
      },
      "source": [
        "print('Total Outbound Invoice items:\\n',df_Outbound['Document Header Text'].count())\n",
        "print('Unique Outbound Invoice items:\\n',df_Outbound['Document Header Text'].nunique())\n",
        "print('Total Outbound Shipments items:\\n',df_Outbound['Shipment number'].count())\n",
        "print('Unique Outbound Shipments items:\\n',df_Outbound['Shipment number'].nunique())\n",
        "\n",
        "df_MA01_Inbound = df_Inbound[df_Inbound['Plant_y']=='MA01']\n",
        "print('2601225005 Total Inbound items:\\n','6506')\n",
        "print('MA01 Total Inbound items:\\n','6113')\n",
        "print('MA01 Inbound items:\\n',df_MA01_Inbound['Document Header Text'].count())\n",
        "\n",
        "df_MA01_Outbound = df_Outbound[df_Outbound['Plant.']=='MA01']\n",
        "print('MA01 Outbound items:\\n',df_MA01_Outbound['Document Header Text'].count())"
      ],
      "execution_count": null,
      "outputs": [
        {
          "output_type": "stream",
          "text": [
            "Total Outbound Invoice items:\n",
            " 205898\n",
            "Unique Outbound Invoice items:\n",
            " 125805\n",
            "Total Outbound Shipments items:\n",
            " 205898\n",
            "Unique Outbound Shipments items:\n",
            " 114930\n",
            "2601225005 Total Inbound items:\n",
            " 6506\n",
            "MA01 Total Inbound items:\n",
            " 6113\n",
            "MA01 Inbound items:\n",
            " 2646\n",
            "MA01 Outbound items:\n",
            " 51207\n"
          ],
          "name": "stdout"
        }
      ]
    },
    {
      "cell_type": "code",
      "metadata": {
        "id": "sC6VOIWXOAg0",
        "outputId": "9cab7263-ea29-49f6-e8a1-4b17990c5412",
        "colab": {
          "base_uri": "https://localhost:8080/",
          "height": 159
        }
      },
      "source": [
        "print('Total Inbound Invoice items:\\n',df_Inbound['Document Header Text'].count())\n",
        "print('Unique Inbound Invoice items:\\n',df_Inbound['Document Header Text'].nunique())\n",
        "print('Total Inbound PO items:\\n',df_Inbound['Purchase order number'].count())\n",
        "print('Unique Inbound PO items:\\n',df_Inbound['Purchase order number'].nunique())"
      ],
      "execution_count": null,
      "outputs": [
        {
          "output_type": "stream",
          "text": [
            "Total Inbound Invoice items:\n",
            " 14606\n",
            "Unique Inbound Invoice items:\n",
            " 10948\n",
            "Total Inbound PO items:\n",
            " 8284\n",
            "Unique Inbound PO items:\n",
            " 6113\n"
          ],
          "name": "stdout"
        }
      ]
    }
  ]
}